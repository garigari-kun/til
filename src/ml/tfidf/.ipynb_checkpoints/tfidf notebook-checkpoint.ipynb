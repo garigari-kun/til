{
 "cells": [
  {
   "cell_type": "markdown",
   "metadata": {},
   "source": [
    "## TF-IDF\n",
    "\n",
    "まずは用語をおさらいする\n",
    "- Corps: ドキュメントの集合\n",
    "- Documents: １文章（センテンス）の単位\n",
    "- Word: 単語"
   ]
  },
  {
   "cell_type": "code",
   "execution_count": 4,
   "metadata": {
    "collapsed": true
   },
   "outputs": [],
   "source": [
    "doc_a = 'The rabbit bit my finger'\n",
    "doc_b = 'The dog bit my bacon'"
   ]
  },
  {
   "cell_type": "markdown",
   "metadata": {},
   "source": [
    "## トークナイズ\n",
    "\n",
    "テキスト処理を行うときは、Bag of wordsモデルを用いて、単語に分解します。\n",
    "分解した単語を"
   ]
  },
  {
   "cell_type": "code",
   "execution_count": 5,
   "metadata": {
    "collapsed": true
   },
   "outputs": [],
   "source": [
    "bow_a = doc_a.split(' ')\n",
    "bow_b = doc_b.split(' ')"
   ]
  },
  {
   "cell_type": "code",
   "execution_count": 8,
   "metadata": {
    "collapsed": false
   },
   "outputs": [
    {
     "data": {
      "text/plain": [
       "['The', 'rabbit', 'bit', 'my', 'finger']"
      ]
     },
     "execution_count": 8,
     "metadata": {},
     "output_type": "execute_result"
    }
   ],
   "source": [
    "bow_a"
   ]
  },
  {
   "cell_type": "code",
   "execution_count": 15,
   "metadata": {
    "collapsed": false
   },
   "outputs": [],
   "source": [
    "words_set = set(bow_a).union(set(bow_b))"
   ]
  },
  {
   "cell_type": "code",
   "execution_count": 16,
   "metadata": {
    "collapsed": false
   },
   "outputs": [
    {
     "data": {
      "text/plain": [
       "{'The', 'bacon', 'bit', 'dog', 'finger', 'my', 'rabbit'}"
      ]
     },
     "execution_count": 16,
     "metadata": {},
     "output_type": "execute_result"
    }
   ],
   "source": [
    "words_set"
   ]
  },
  {
   "cell_type": "code",
   "execution_count": 17,
   "metadata": {
    "collapsed": true
   },
   "outputs": [],
   "source": [
    "words_dict_a = dict.fromkeys(words_set, 0)\n",
    "words_dict_b = dict.fromkeys(words_set, 0)"
   ]
  },
  {
   "cell_type": "code",
   "execution_count": 18,
   "metadata": {
    "collapsed": false
   },
   "outputs": [
    {
     "data": {
      "text/plain": [
       "{'The': 0, 'bacon': 0, 'bit': 0, 'dog': 0, 'finger': 0, 'my': 0, 'rabbit': 0}"
      ]
     },
     "execution_count": 18,
     "metadata": {},
     "output_type": "execute_result"
    }
   ],
   "source": [
    "words_dict_a"
   ]
  },
  {
   "cell_type": "code",
   "execution_count": 19,
   "metadata": {
    "collapsed": true
   },
   "outputs": [],
   "source": [
    "# BOWモデルで生成した単語に分解された単語の出現回数を調べます\n",
    "for word in bow_a:\n",
    "    words_dict_a[word] += 1\n",
    "\n",
    "for word in bow_b:\n",
    "    words_dict_b[word] += 1"
   ]
  },
  {
   "cell_type": "code",
   "execution_count": 20,
   "metadata": {
    "collapsed": false
   },
   "outputs": [
    {
     "data": {
      "text/plain": [
       "{'The': 1, 'bacon': 0, 'bit': 1, 'dog': 0, 'finger': 1, 'my': 1, 'rabbit': 1}"
      ]
     },
     "execution_count": 20,
     "metadata": {},
     "output_type": "execute_result"
    }
   ],
   "source": [
    "words_dict_a"
   ]
  },
  {
   "cell_type": "code",
   "execution_count": 22,
   "metadata": {
    "collapsed": false
   },
   "outputs": [],
   "source": [
    "# Dataframeを使ってインデックス付きの二次元データにおこします\n",
    "import pandas as pd\n",
    "df = pd.DataFrame([words_dict_a, words_dict_b])"
   ]
  },
  {
   "cell_type": "code",
   "execution_count": 23,
   "metadata": {
    "collapsed": false
   },
   "outputs": [
    {
     "data": {
      "text/html": [
       "<div>\n",
       "<table border=\"1\" class=\"dataframe\">\n",
       "  <thead>\n",
       "    <tr style=\"text-align: right;\">\n",
       "      <th></th>\n",
       "      <th>The</th>\n",
       "      <th>bacon</th>\n",
       "      <th>bit</th>\n",
       "      <th>dog</th>\n",
       "      <th>finger</th>\n",
       "      <th>my</th>\n",
       "      <th>rabbit</th>\n",
       "    </tr>\n",
       "  </thead>\n",
       "  <tbody>\n",
       "    <tr>\n",
       "      <th>0</th>\n",
       "      <td>1</td>\n",
       "      <td>0</td>\n",
       "      <td>1</td>\n",
       "      <td>0</td>\n",
       "      <td>1</td>\n",
       "      <td>1</td>\n",
       "      <td>1</td>\n",
       "    </tr>\n",
       "    <tr>\n",
       "      <th>1</th>\n",
       "      <td>1</td>\n",
       "      <td>1</td>\n",
       "      <td>1</td>\n",
       "      <td>1</td>\n",
       "      <td>0</td>\n",
       "      <td>1</td>\n",
       "      <td>0</td>\n",
       "    </tr>\n",
       "  </tbody>\n",
       "</table>\n",
       "</div>"
      ],
      "text/plain": [
       "   The  bacon  bit  dog  finger  my  rabbit\n",
       "0    1      0    1    0       1   1       1\n",
       "1    1      1    1    1       0   1       0"
      ]
     },
     "execution_count": 23,
     "metadata": {},
     "output_type": "execute_result"
    }
   ],
   "source": [
    "df"
   ]
  },
  {
   "cell_type": "markdown",
   "metadata": {},
   "source": [
    "## TF-IDF\n",
    "\n",
    "stop wordsという単語があって英語だと例えばtheという単語は全体の会話の７％を占めるといわれます。\n",
    "つまり、ただただ単語数を数えるだけでは関連性をたどるのは難しいので、TF-IDFと呼ばれるアルゴリズムを用いてその重要性を知るのが正確あといわれます\n",
    "\n",
    "数式で表すと難しいので、以下のように表現します。\n",
    "\n",
    "### tf = ドキュメントに単語が現れた回数 / ドキュメントの総単語数\n",
    "### idf = log(ドキュメントの数 / その単語を含むドキュメント数)\n",
    "\n"
   ]
  },
  {
   "cell_type": "code",
   "execution_count": 26,
   "metadata": {
    "collapsed": true
   },
   "outputs": [],
   "source": [
    "def compute_tf(words_dict, bow_model):\n",
    "    tf_dict = {}\n",
    "    bow_count = len(bow_model)\n",
    "    for word, count in words_dict.items():\n",
    "        tf_dict[word] = count / float(bow_count)\n",
    "    return tf_dict"
   ]
  },
  {
   "cell_type": "code",
   "execution_count": 27,
   "metadata": {
    "collapsed": false
   },
   "outputs": [],
   "source": [
    "tf_bow_a = compute_tf(words_dict_a, bow_a)\n",
    "tf_bow_b = compute_tf(words_dict_b, bow_b)"
   ]
  },
  {
   "cell_type": "code",
   "execution_count": 28,
   "metadata": {
    "collapsed": false
   },
   "outputs": [
    {
     "data": {
      "text/plain": [
       "{'The': 0.2,\n",
       " 'bacon': 0.0,\n",
       " 'bit': 0.2,\n",
       " 'dog': 0.0,\n",
       " 'finger': 0.2,\n",
       " 'my': 0.2,\n",
       " 'rabbit': 0.2}"
      ]
     },
     "execution_count": 28,
     "metadata": {},
     "output_type": "execute_result"
    }
   ],
   "source": [
    "tf_bow_a"
   ]
  },
  {
   "cell_type": "code",
   "execution_count": 49,
   "metadata": {
    "collapsed": false
   },
   "outputs": [],
   "source": [
    "from math import log\n",
    "\n",
    "def compute_idf(corps):\n",
    "    idf_dict = {}\n",
    "    doc_count = len(corps)\n",
    "    \n",
    "    idf_dict = dict.fromkeys(corps[0].keys(), 0)\n",
    "    # 単語を含むドキュメントの数を調べる\n",
    "    for doc in corps:\n",
    "        for word, count in doc.items():\n",
    "            if count > 0:\n",
    "                idf_dict[word] += 1\n",
    "\n",
    "    # log(ドキュメントの数 / その単語を含むドキュメント数)\n",
    "    for word, count in idf_dict.items():\n",
    "        idf_dict[word] = log(doc_count / float(count))\n",
    "        \n",
    "    return idf_dict"
   ]
  },
  {
   "cell_type": "code",
   "execution_count": 55,
   "metadata": {
    "collapsed": false
   },
   "outputs": [],
   "source": [
    "idf_score = compute_idf([words_dict_a, words_dict_b])"
   ]
  },
  {
   "cell_type": "code",
   "execution_count": 56,
   "metadata": {
    "collapsed": false
   },
   "outputs": [
    {
     "data": {
      "text/plain": [
       "{'The': 0.0,\n",
       " 'bacon': 0.6931471805599453,\n",
       " 'bit': 0.0,\n",
       " 'dog': 0.6931471805599453,\n",
       " 'finger': 0.6931471805599453,\n",
       " 'my': 0.0,\n",
       " 'rabbit': 0.6931471805599453}"
      ]
     },
     "execution_count": 56,
     "metadata": {},
     "output_type": "execute_result"
    }
   ],
   "source": [
    "idf_score"
   ]
  },
  {
   "cell_type": "code",
   "execution_count": 52,
   "metadata": {
    "collapsed": true
   },
   "outputs": [],
   "source": [
    "def compute_tfidf(tf_model, idf_score):\n",
    "    tfidf_dict = {}\n",
    "    for word, count in tf_model.items():\n",
    "        tfidf_dict[word] = count * idf_score[word]\n",
    "    return tfidf_dict"
   ]
  },
  {
   "cell_type": "code",
   "execution_count": 53,
   "metadata": {
    "collapsed": true
   },
   "outputs": [],
   "source": [
    "tfidf_a = compute_tfidf(tf_bow_a, idf_score)\n",
    "tfidf_b = compute_tfidf(tf_bow_b, idf_score)"
   ]
  },
  {
   "cell_type": "code",
   "execution_count": 54,
   "metadata": {
    "collapsed": false
   },
   "outputs": [
    {
     "data": {
      "text/html": [
       "<div>\n",
       "<table border=\"1\" class=\"dataframe\">\n",
       "  <thead>\n",
       "    <tr style=\"text-align: right;\">\n",
       "      <th></th>\n",
       "      <th>The</th>\n",
       "      <th>bacon</th>\n",
       "      <th>bit</th>\n",
       "      <th>dog</th>\n",
       "      <th>finger</th>\n",
       "      <th>my</th>\n",
       "      <th>rabbit</th>\n",
       "    </tr>\n",
       "  </thead>\n",
       "  <tbody>\n",
       "    <tr>\n",
       "      <th>0</th>\n",
       "      <td>0.0</td>\n",
       "      <td>0.000000</td>\n",
       "      <td>0.0</td>\n",
       "      <td>0.000000</td>\n",
       "      <td>0.138629</td>\n",
       "      <td>0.0</td>\n",
       "      <td>0.138629</td>\n",
       "    </tr>\n",
       "    <tr>\n",
       "      <th>1</th>\n",
       "      <td>0.0</td>\n",
       "      <td>0.138629</td>\n",
       "      <td>0.0</td>\n",
       "      <td>0.138629</td>\n",
       "      <td>0.000000</td>\n",
       "      <td>0.0</td>\n",
       "      <td>0.000000</td>\n",
       "    </tr>\n",
       "  </tbody>\n",
       "</table>\n",
       "</div>"
      ],
      "text/plain": [
       "   The     bacon  bit       dog    finger   my    rabbit\n",
       "0  0.0  0.000000  0.0  0.000000  0.138629  0.0  0.138629\n",
       "1  0.0  0.138629  0.0  0.138629  0.000000  0.0  0.000000"
      ]
     },
     "execution_count": 54,
     "metadata": {},
     "output_type": "execute_result"
    }
   ],
   "source": [
    "pd.DataFrame([tfidf_a, tfidf_b])"
   ]
  },
  {
   "cell_type": "code",
   "execution_count": null,
   "metadata": {
    "collapsed": true
   },
   "outputs": [],
   "source": []
  }
 ],
 "metadata": {
  "anaconda-cloud": {},
  "kernelspec": {
   "display_name": "Python [conda root]",
   "language": "python",
   "name": "conda-root-py"
  },
  "language_info": {
   "codemirror_mode": {
    "name": "ipython",
    "version": 3
   },
   "file_extension": ".py",
   "mimetype": "text/x-python",
   "name": "python",
   "nbconvert_exporter": "python",
   "pygments_lexer": "ipython3",
   "version": "3.5.2"
  }
 },
 "nbformat": 4,
 "nbformat_minor": 1
}
