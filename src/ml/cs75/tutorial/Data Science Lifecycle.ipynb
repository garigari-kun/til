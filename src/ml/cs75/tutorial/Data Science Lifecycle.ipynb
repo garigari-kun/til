{
 "cells": [
  {
   "cell_type": "markdown",
   "metadata": {},
   "source": [
    "\n",
    "# Science -> Data\n",
    "\n",
    "\n",
    "Hypothesis:\n",
    "Pollution is related to traffic and the weather.\n",
    "\n",
    "\n",
    "We would neet to get traffic, weather and maybe...pollution?\n",
    "\n",
    "Therea are biases.\n",
    "If the data is just collected in summer.\n",
    "\n",
    "\n",
    "\n",
    "Data:\n",
    "\n",
    "\n",
    "Model:\n",
    "Explain relationship between pollution and traffic and weather data.\n",
    "\n",
    "\n",
    "traffic, weather -> (Natural Process) -> Pollution\n",
    "\n",
    "\n",
    "How can we create a model?\n",
    "1, Information\n",
    "2, Predict\n",
    "\n",
    "\n",
    "Data Product:\n",
    "1, Information(Visualization)\n",
    "2, Experimant(Correlation != Causation)\n",
    "3, Predictive Model\n",
    "\n",
    "\n",
    "Summary\n",
    "1, Hypothesis\n",
    "2, Data\n",
    "3, Model\n",
    "4, Data Product\n",
    "\n",
    "\n",
    " \n",
    "\n"
   ]
  },
  {
   "cell_type": "code",
   "execution_count": null,
   "metadata": {
    "collapsed": true
   },
   "outputs": [],
   "source": []
  }
 ],
 "metadata": {
  "anaconda-cloud": {},
  "kernelspec": {
   "display_name": "Python [default]",
   "language": "python",
   "name": "python3"
  },
  "language_info": {
   "codemirror_mode": {
    "name": "ipython",
    "version": 3
   },
   "file_extension": ".py",
   "mimetype": "text/x-python",
   "name": "python",
   "nbconvert_exporter": "python",
   "pygments_lexer": "ipython3",
   "version": "3.5.2"
  }
 },
 "nbformat": 4,
 "nbformat_minor": 1
}
