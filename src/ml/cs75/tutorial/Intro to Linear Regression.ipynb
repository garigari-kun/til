{
 "cells": [
  {
   "cell_type": "markdown",
   "metadata": {},
   "source": [
    "# Linear Regression\n",
    "\n",
    "- What does it do?\n",
    "- What are the inputs?\n",
    "- What are the outputs?\n",
    "- What can we measure performance?\n",
    "- How can it fail?\n",
    "\n",
    "X -> Model -> Y\n",
    "\n",
    "\n",
    "Using a linear model, predicts a continuous output value based on inputs.\n",
    "\n",
    "\"Scaled\"\n",
    "\n",
    "User z scores\n",
    "z = x - u / diviation\n",
    "\n",
    "\n",
    "### Handling complex categories\n",
    "\n",
    "### What are the outputs?\n",
    "- A continuout value\n",
    "- Regression, not classification\n",
    "\n",
    "\n",
    "### Performance\n",
    "\n",
    "\n",
    "\n"
   ]
  }
 ],
 "metadata": {
  "anaconda-cloud": {},
  "kernelspec": {
   "display_name": "Python [default]",
   "language": "python",
   "name": "python3"
  },
  "language_info": {
   "codemirror_mode": {
    "name": "ipython",
    "version": 3
   },
   "file_extension": ".py",
   "mimetype": "text/x-python",
   "name": "python",
   "nbconvert_exporter": "python",
   "pygments_lexer": "ipython3",
   "version": "3.5.2"
  }
 },
 "nbformat": 4,
 "nbformat_minor": 1
}
