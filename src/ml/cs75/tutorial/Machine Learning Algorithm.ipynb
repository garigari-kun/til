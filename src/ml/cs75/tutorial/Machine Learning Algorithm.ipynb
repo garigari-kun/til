{
 "cells": [
  {
   "cell_type": "markdown",
   "metadata": {},
   "source": [
    "# Machine Learning Overview\n",
    "\n",
    "\n",
    "\n",
    "### Model\n",
    "- Statistical inference(Math term)\n",
    "- Machine Learning(Computer Science term)\n",
    "\n",
    "\n",
    "History -> Some general Rule\n",
    "\n",
    "### Types Of Machine learning\n",
    "\n",
    "1, Supervised\n",
    "2, Unsupervised\n",
    "\n",
    "\n",
    "### Supervised Machine Learning\n",
    "\n",
    "A, Regression\n",
    "\n",
    "Ex: House Prices\n",
    "Bed rooms, Bath rooms, Price,,,\n",
    "\n",
    "1, 3Bed2Bath $200,000\n",
    "2, 4Bed3Bath $250K\n",
    "3, 2Bed2Bath 150K\n",
    "\n",
    "Predict House Price based on independent variable\n",
    "\n",
    "So Regression is used by predicting value using labeld data\n",
    "\n",
    "\n",
    "\n",
    "B, Classification\n",
    "\n",
    "Ex: Predict a class given label data\n",
    "\n",
    "Blood test\n",
    "Does the patient have a cancer or not\n",
    "\n",
    "1, + 1\n",
    "2, - 0\n",
    "3, + 1\n",
    "\n",
    "\n",
    "### Unsupervised Machine Learning\n",
    "\n",
    "A, Clustering\n",
    "\n",
    "Data\n",
    "-Groups\n",
    "-Outliers\n",
    "\n",
    "\n",
    "B, Recommender\n",
    "\n",
    "It's basically the recommender sysytem from like Netflix, Amazon....\n",
    "\n",
    "Based on items you like, \n",
    "Recommend items for you based on likes of other people who are like you.\n",
    "\n"
   ]
  },
  {
   "cell_type": "code",
   "execution_count": null,
   "metadata": {
    "collapsed": true
   },
   "outputs": [],
   "source": []
  }
 ],
 "metadata": {
  "kernelspec": {
   "display_name": "Python [default]",
   "language": "python",
   "name": "python3"
  },
  "language_info": {
   "codemirror_mode": {
    "name": "ipython",
    "version": 3
   },
   "file_extension": ".py",
   "mimetype": "text/x-python",
   "name": "python",
   "nbconvert_exporter": "python",
   "pygments_lexer": "ipython3",
   "version": "3.5.2"
  }
 },
 "nbformat": 4,
 "nbformat_minor": 1
}
