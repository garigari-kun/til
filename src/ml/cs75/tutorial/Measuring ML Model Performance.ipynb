{
 "cells": [
  {
   "cell_type": "markdown",
   "metadata": {},
   "source": [
    "# Measuring ML Model performance\n",
    "\n",
    "\n",
    "\n",
    "X(Independetn var) -> (Nature) -> Y(Dependet var)\n",
    "\n",
    "Goal to create a model.\n",
    "\n",
    "x -> Model -> ^y\n",
    "\n",
    "\n",
    "y to ^y\n",
    "\n",
    "\n",
    "X\n",
    "80% -> Train\n",
    "20% -> Test\n",
    "\n",
    "Test -> (Nature) -> y\n",
    "Test -> (Model) -> ^y\n",
    "\n",
    "\n",
    "\n"
   ]
  }
 ],
 "metadata": {
  "kernelspec": {
   "display_name": "Python [default]",
   "language": "python",
   "name": "python3"
  },
  "language_info": {
   "codemirror_mode": {
    "name": "ipython",
    "version": 3
   },
   "file_extension": ".py",
   "mimetype": "text/x-python",
   "name": "python",
   "nbconvert_exporter": "python",
   "pygments_lexer": "ipython3",
   "version": "3.5.2"
  }
 },
 "nbformat": 4,
 "nbformat_minor": 1
}
